{
 "cells": [
  {
   "cell_type": "markdown",
   "metadata": {},
   "source": [
    "# 信息抽取"
   ]
  },
  {
   "cell_type": "markdown",
   "metadata": {},
   "source": [
    "中文：\n",
    "句子级别关系抽取。注意文本预处理（指代消解）。\n",
    "采用pyltp进行分句分词、依存句法分析。\n",
    "命名实体识别和指代消解：bert-ner\n",
    "关系抽取：openNRE。基于schema的抽取。\n",
    "\n",
    "英文：\n",
    "文档级别关系抽取：docred。"
   ]
  },
  {
   "cell_type": "markdown",
   "metadata": {},
   "source": [
    "引入stanford-nlp"
   ]
  },
  {
   "cell_type": "code",
   "execution_count": null,
   "metadata": {},
   "outputs": [],
   "source": [
    "# 进入stanfordnlp文件夹，用终端运行（稳定起见）\n",
    "# java -Xmx4g -cp \"*\" edu.stanford.nlp.pipeline.StanfordCoreNLPServer -serverProperties StanfordCoreNLP-chinese.properties -port 9000 -timeout 15000"
   ]
  },
  {
   "cell_type": "markdown",
   "metadata": {},
   "source": [
    "## 1.指代消解"
   ]
  },
  {
   "cell_type": "code",
   "execution_count": 2,
   "metadata": {},
   "outputs": [
    {
     "name": "stdin",
     "output_type": "stream",
     "text": [
      "输入： 韩裔德国学者韩炳哲很有成就。天气很冷。慢慢变凉了。听说韩炳哲在上海。他要去北京。王红也要去那里。她想去找他。\n"
     ]
    },
    {
     "name": "stdout",
     "output_type": "stream",
     "text": [
      "{'1': [{'id': 1, 'text': '韩炳哲', 'type': 'PROPER', 'number': 'SINGULAR', 'gender': 'UNKNOWN', 'animacy': 'ANIMATE', 'startIndex': 4, 'endIndex': 5, 'headIndex': 4, 'sentNum': 1, 'position': [1, 2], 'isRepresentativeMention': True}, {'id': 6, 'text': '韩炳哲', 'type': 'PROPER', 'number': 'SINGULAR', 'gender': 'UNKNOWN', 'animacy': 'ANIMATE', 'startIndex': 2, 'endIndex': 3, 'headIndex': 2, 'sentNum': 4, 'position': [4, 1], 'isRepresentativeMention': False}, {'id': 9, 'text': '他', 'type': 'PRONOMINAL', 'number': 'SINGULAR', 'gender': 'MALE', 'animacy': 'ANIMATE', 'startIndex': 1, 'endIndex': 2, 'headIndex': 1, 'sentNum': 5, 'position': [5, 2], 'isRepresentativeMention': False}, {'id': 13, 'text': '他', 'type': 'PRONOMINAL', 'number': 'SINGULAR', 'gender': 'MALE', 'animacy': 'ANIMATE', 'startIndex': 5, 'endIndex': 6, 'headIndex': 5, 'sentNum': 7, 'position': [7, 2], 'isRepresentativeMention': False}], '8': [{'id': 8, 'text': '北京', 'type': 'PROPER', 'number': 'SINGULAR', 'gender': 'UNKNOWN', 'animacy': 'INANIMATE', 'startIndex': 4, 'endIndex': 5, 'headIndex': 4, 'sentNum': 5, 'position': [5, 1], 'isRepresentativeMention': True}, {'id': 11, 'text': '那里', 'type': 'PRONOMINAL', 'number': 'UNKNOWN', 'gender': 'UNKNOWN', 'animacy': 'INANIMATE', 'startIndex': 5, 'endIndex': 6, 'headIndex': 5, 'sentNum': 6, 'position': [6, 2], 'isRepresentativeMention': False}], '10': [{'id': 10, 'text': '王红', 'type': 'PROPER', 'number': 'SINGULAR', 'gender': 'UNKNOWN', 'animacy': 'ANIMATE', 'startIndex': 1, 'endIndex': 2, 'headIndex': 1, 'sentNum': 6, 'position': [6, 1], 'isRepresentativeMention': True}, {'id': 12, 'text': '她', 'type': 'PRONOMINAL', 'number': 'SINGULAR', 'gender': 'FEMALE', 'animacy': 'ANIMATE', 'startIndex': 1, 'endIndex': 2, 'headIndex': 1, 'sentNum': 7, 'position': [7, 1], 'isRepresentativeMention': False}]}\n",
      "输出：\t\n",
      "韩裔德国学者韩炳哲很有成就。天气很冷。慢慢变凉了。听说韩炳哲在上海。韩炳哲要去北京。王红也要去北京。王红想去找韩炳哲。\n"
     ]
    }
   ],
   "source": [
    "import requests\n",
    "import json\n",
    "from argparse import Namespace\n",
    "# def json_to_object(data):\n",
    "#     return json.loads(data, object_hook=lambda d: Namespace(**d))\n",
    "# tokenize,ssplit,pos,lemma,parse,depparse,ner,regexner,coref,kbp\n",
    "# text = \"\"\"韩裔德国学者韩炳哲在2010年才进入大众视野，薄薄一册《倦怠社会》，一竿子横扫鲍德里亚、福柯、阿甘本和阿伦特。彼时，他51岁。向前回溯，他出生在首尔，大学时代的专业是冶金学，22岁时，他在身无分文且语言不通的状况下来到德国，有志于学习哲学、文学和神学。他以惊人的速度学会了德语，德语程度甚至好过母语。35岁时，他以论文《海德格尔的情感概念》获得弗赖堡大学的博士学位，41岁在瑞士巴塞尔大学任教。在2010年之前，韩炳哲可谓名不见经传，可是不鸣则已、一鸣惊人，从此以后，他以每年一至两本新书的速度，出版了《透明社会》《山寨：中国制造的毁灭》《爱欲之死》《精神政治学》《娱乐何为》等，一共16本。\"\"\"\n",
    "# text = \"\"\"韩裔德国学者韩炳哲很有成就。天气很冷。慢慢变凉了。听说韩炳哲在上海。他要去北京。王红也要去那里。她想去找他。\"\"\"\n",
    "text = input('输入：')\n",
    "res = requests.post('http://localhost:9000/?properties={\"annotators\":\"tokenize,ssplit,pos,lemma,ner,parse,depparse,coref\",\"outputFormat\":\"json\"}', \n",
    "                    data = text.encode('utf-8')).text\n",
    "# print(res)\n",
    "res = str(res)\n",
    "json_obj = json.loads(res)\n",
    "# print(json_obj)\n",
    "for each_coref in json_obj['corefs'].values():\n",
    "    rep = \"\"\n",
    "    for each_word in each_coref:\n",
    "        if each_word['isRepresentativeMention']:\n",
    "            rep = each_word['text'].replace(\" \",\"\")\n",
    "        else:\n",
    "            sentence_index = each_word['position'][0]\n",
    "            start = each_word['startIndex']\n",
    "            end = each_word['endIndex']\n",
    "            json_obj['sentences'][sentence_index-1]['tokens'][start-1]['word'] = rep\n",
    "            for i in range(start,end-1):\n",
    "                json_obj['sentences'][sentence_index-1]['tokens'][i]['word'] = \"\"\n",
    "coref_result = \"\"\n",
    "each_res = \"\"\n",
    "for each_sentence in json_obj['sentences']:\n",
    "    for each_token in each_sentence['tokens']:\n",
    "        each_res += each_token['word']\n",
    "    coref_result += each_res   \n",
    "    each_res = \"\"\n",
    "print(json_obj['corefs'])\n",
    "print(\"输出：\"+'\\t')\n",
    "print(coref_result)"
   ]
  },
  {
   "cell_type": "markdown",
   "metadata": {},
   "source": [
    "## 2.关系抽取（NRE）"
   ]
  },
  {
   "cell_type": "markdown",
   "metadata": {},
   "source": [
    "## 3.事件抽取（EE）"
   ]
  }
 ],
 "metadata": {
  "kernelspec": {
   "display_name": "Python [conda env:torch]",
   "language": "python",
   "name": "conda-env-torch-py"
  },
  "language_info": {
   "codemirror_mode": {
    "name": "ipython",
    "version": 3
   },
   "file_extension": ".py",
   "mimetype": "text/x-python",
   "name": "python",
   "nbconvert_exporter": "python",
   "pygments_lexer": "ipython3",
   "version": "3.8.2"
  }
 },
 "nbformat": 4,
 "nbformat_minor": 4
}
